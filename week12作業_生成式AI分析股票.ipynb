{
  "nbformat": 4,
  "nbformat_minor": 0,
  "metadata": {
    "colab": {
      "provenance": [],
      "authorship_tag": "ABX9TyPhpQmImBGb8dS43XvUN7+8"
    },
    "kernelspec": {
      "name": "python3",
      "display_name": "Python 3"
    },
    "language_info": {
      "name": "python"
    }
  },
  "cells": [
    {
      "cell_type": "code",
      "execution_count": 51,
      "metadata": {
        "id": "_2wcPgTiPgGJ"
      },
      "outputs": [],
      "source": [
        "%pip install -q -U beautifulsoup4\n",
        "%pip install -q -U google-generativeai"
      ]
    },
    {
      "cell_type": "code",
      "source": [
        "stock_name = 'AAPL'\n",
        "news_url = f'https://finance.yahoo.com/quote/{stock_name}/news/'\n",
        "statistics_url = f'https://finance.yahoo.com/quote/{stock_name}/key-statistics/'"
      ],
      "metadata": {
        "id": "n6ASYI7XPp8J"
      },
      "execution_count": 52,
      "outputs": []
    },
    {
      "cell_type": "code",
      "source": [
        "import requests\n",
        "from bs4 import BeautifulSoup\n",
        "\n",
        "headers = {\n",
        "    \"Referer\": f\"https://finance.yahoo.com/quote/{stock_name}/\",\n",
        "    \"User-Agent\": \"Mozilla/5.0 (Macintosh; Intel Mac OS X 10_15_7) AppleWebKit/537.36 (KHTML, like Gecko) Chrome/131.0.0.0 Safari/537.36\",\n",
        "}\n",
        "\n",
        "news_response = requests.get(news_url, headers=headers)\n",
        "news_soup = BeautifulSoup(news_response.text, \"html.parser\")"
      ],
      "metadata": {
        "id": "4xWafWtNVlUw"
      },
      "execution_count": 53,
      "outputs": []
    },
    {
      "cell_type": "code",
      "source": [
        "news_title = news_soup.select(\".story-item h3\")\n",
        "news_desc = news_soup.select(\".story-item p\")\n",
        "news_related = news_soup.select(\".story-item .yf-13tszyc\")\n",
        "\n",
        "news_data = []\n",
        "for title, desc, rel in zip(news_title, news_desc, news_related):\n",
        "    news_data.append([{\n",
        "        'title': title.text.strip(),\n",
        "        'desc': desc.text.strip(),\n",
        "        \"related\": rel.text.replace('  ', '').replace('% ', ', ')\n",
        "    }])\n",
        "\n",
        "news_data"
      ],
      "metadata": {
        "colab": {
          "base_uri": "https://localhost:8080/"
        },
        "id": "AC5AgyQCVpbl",
        "outputId": "a02c7f6a-84c3-4886-e3d7-fb141ce27773"
      },
      "execution_count": 54,
      "outputs": [
        {
          "output_type": "execute_result",
          "data": {
            "text/plain": [
              "[[{'title': 'Learn how to use Apple Intelligence’s ‘Image Playground’',\n",
              "   'desc': \"Apple just released iOS 18.1.1, but it's iOS 18.2 that will come with exciting image generation features, such as “Image Playground,” Apple's image creation feature that creates cartoon-like images from text descriptions. Here’s what you need to know about the Apple Intelligence feature, including what it is, how to use it, and when it launches. What is Image Playground? Image Playground is part of Apple Intelligence, a range of AI-driven tools from Apple. The new feature enables users to enter\",\n",
              "   'related': 'AAPL +0.95%'}],\n",
              " [{'title': 'Indonesia expects $1 billion investment commitment from Apple in a\\xa0week',\n",
              "   'desc': 'Indonesia is expecting to get a $1 billion investment commitment from tech firm Apple Inc in a week, its investment minister said on Tuesday, after the government banned iPhone 16 sales for failing to meet local content rules.  Indonesia stopped sales of the smartphone because it requires those sold domestically to comprise at least 40% locally-made parts, which it said Apple had not adhered to.  Indonesia plans to increase this requirement, a deputy minister said on Tuesday.',\n",
              "   'related': 'AAPL +0.95%'}],\n",
              " [{'title': '2 Sensational Stocks \"Britain\\'s Warren Buffett,\" Terry Smith, Wants to Own for 2025',\n",
              "   'desc': \"Two industry-leading tech companies -- which aren't exactly value stocks -- have been top buys for Fundsmith's traditionally value-focused billionaire chief, Terry Smith.\",\n",
              "   'related': 'TXNAAPL +0.95%'}],\n",
              " [{'title': 'From Brexit to Nvidia, Saxo makes the most outrageous 2025 market predictions',\n",
              "   'desc': 'Could Nvidia surge to double the value of Apple?',\n",
              "   'related': 'TSLA +3.46, ^FTSEBTC-USD '}],\n",
              " [{'title': 'Why Is Apple Inc. (AAPL) Among Billionaire Ken Fisher’s Top Stock Picks Heading Into 2025?',\n",
              "   'desc': 'We recently compiled a list of the Billionaire Ken Fisher’s Top 15 Stock Picks Heading Into 2025. In this article, we are going to take a look at where Apple Inc. (NASDAQ:AAPL) stands against Ken Fisher’s other top stock picks. Ken Fisher is the founder of Fisher Asset Management, a financial adviser that he started nearly […]',\n",
              "   'related': 'AAPL +0.95%'}],\n",
              " [{'title': 'Is Taiwan Semiconductor Stock a Buy Now?',\n",
              "   'desc': \"Up about 75% year to date as of this writing, Taiwan Semiconductor Manufacturing (NYSE: TSM), or TSMC for short, has been on a strong run this year as it has benefited from the AI infrastructure buildout.  TSMC is the world's leading semiconductor contract manufacturer, and produces chips for some of the largest tech companies in the world, including Apple and Nvidia.  Manufacturing chips is a capital-intensive business that requires building expensive foundries, and high utilization levels are necessary to ensure profits, which is why many of the world's top semiconductor companies outsource their chip manufacturing.\",\n",
              "   'related': 'TSMNVDA +0.27, INTC -0.50%'}],\n",
              " [{'title': 'Apple hit with employee lawsuit alleging privacy and speech violations',\n",
              "   'desc': \"Lawsuit alleges Apple monitors employees' personal iCloud accounts and illegally limits them from discussing their wages and working conditions.\",\n",
              "   'related': 'AAPL +0.95%'}],\n",
              " [{'title': 'Apple (AAPL) Facing Rising Competition in China, New Data Shows',\n",
              "   'desc': 'We recently published a list of Top 10 AI Stocks on Investors’ Radar These Days. In this article, we are going to take a look at where Apple Inc (NASDAQ:AAPL) stands against other top AI stocks on investors’ radar these days. The debate around AI systems hitting a “data wall” or plateau is heating up […]',\n",
              "   'related': 'AAPL +0.95%'}],\n",
              " [{'title': 'Apple Is IBD Stock Of The Day As Wall Street Eyes iPhone 16 Demand, AI Software Upgrade',\n",
              "   'desc': 'Apple is the IBD Stock Of The Day as Wall Street focuses on iPhone 16 demand amid the holiday shopping season and iOS 18 release with AI features.',\n",
              "   'related': 'AAPL +0.95%'}],\n",
              " [{'title': 'Apple Faces Employee Lawsuit Under California Labor Law Update',\n",
              "   'desc': 'Apple monitors workers physically, visually, and electronically, even at home, according to the lawsuit',\n",
              "   'related': 'AAPL +0.95%'}],\n",
              " [{'title': 'Apple Users Ex-China More Interested in iPhone Cost, Privacy Features Than GenAI, UBS Says',\n",
              "   'desc': \"Apple (AAPL) users outside of China are more interested in the iPhone's cost and privacy features th\",\n",
              "   'related': 'AAPL +0.95%'}],\n",
              " [{'title': 'Magnificent Seven Stocks: Nvidia Stock Reverses Lower, Tesla Rallies On Upgrade; Apple Tops New Buy Point',\n",
              "   'desc': 'Nvidia stock reversed lower Monday, while Tesla surged on an analyst upgrade. Apple is breaking out past a new buy point.',\n",
              "   'related': 'NVDA +0.27, AAPL +0.95, TSLA +3.46%'}],\n",
              " [{'title': 'Dow Jones Tech Titan Apple Breaking Out Today; Meta Stock Eyes New Entry',\n",
              "   'desc': 'Dow Jones tech titan Apple stock is breaking out, while AI leader Meta stock is nearing a new buy point on the stock market today.',\n",
              "   'related': 'AAPL +0.95, META +3.22, ERJ '}],\n",
              " [{'title': 'Now you can use Apple Pay to buy crypto from Coinbase',\n",
              "   'desc': 'You can now buy cryptocurrencies on Coinbase using Apple Pay (AAPL).',\n",
              "   'related': 'COINAAPL +0.95%'}],\n",
              " [{'title': 'Why Is Apple Inc. (AAPL) Among Louis Navellier’s Top Stock Picks Heading Into 2025?',\n",
              "   'desc': 'We recently compiled a list of the Louis Navellier’s Top 10 Stock Picks Heading into 2025. In this article, we are going to take a look at where Apple Inc. (NASDAQ:AAPL) stands against Louis Navellier’s other stock picks. Louis Navellier, Chairman and Founder of Navellier & Associates, is a renowned American investor who is celebrated for […]',\n",
              "   'related': 'AAPL +0.95%'}],\n",
              " [{'title': 'Apple accused of silencing workers, spying on personal devices',\n",
              "   'desc': 'Apple has been accused in a new lawsuit of illegally monitoring its workers\\' personal devices and iCloud accounts while also barring them from discussing their pay and working conditions.  The complaint filed in California state court on Sunday by Amar Bhakta, who works in digital advertising for Apple, claims the company requires employees to install software on personal devices that they use for work allowing Apple to access their email, photo libraries, health and \"smart home\" data and other personal information.  At the same time, the lawsuit alleges, Apple imposes confidentiality policies that prohibit employees from discussing working conditions, including with the media, and engaging in legally-protected whistleblowing.',\n",
              "   'related': 'AAPL +0.95%'}],\n",
              " [{'title': 'Apple Inc. (AAPL) Among Wells Fargo’s Top Tech Stocks to Beat the S&P',\n",
              "   'desc': 'We recently published a list of Wells Fargo’s Tech Stocks To Beat The S&P: 14 Top AI & Non-AI Stocks. In this article, we are going to take a look at where Apple Inc. (NASDAQ:AAPL) stands against other Wells Fargo’s tech stocks to beat the S&P: 14 top AI & non-AI stocks. As 2024 heads […]',\n",
              "   'related': 'AAPL +0.95, WFC '}],\n",
              " [{'title': 'Apple Faces SIM Slot Setback as China Smartphone Subsidies Expand',\n",
              "   'desc': 'Jefferies Flags Limited Upside for Apple Amid Mixed China Signals',\n",
              "   'related': 'AAPL +0.95%'}],\n",
              " [{'title': 'Gene Munster of Deepwater Sees Upside for Apple (AAPL) in the Long Term – Here’s Why',\n",
              "   'desc': 'We recently published a list of 10 Trending AI Stocks to Watch in December. In this article, we are going to take a look at where Apple Inc (NASDAQ:AAPL) stands against other trending AI stocks to watch in December. Jared Cohen, Goldman Sachs president of global affairs, co-head of the Goldman Sachs Global Institute, said […]',\n",
              "   'related': 'AAPL +0.95%'}],\n",
              " [{'title': 'A Tesla rival now builds stuff for Apple',\n",
              "   'desc': 'Tesla’s biggest competitor has a side hustle assembling iPads.',\n",
              "   'related': 'AAPL +0.95, TSLA +3.46%'}]]"
            ]
          },
          "metadata": {},
          "execution_count": 54
        }
      ]
    },
    {
      "cell_type": "code",
      "source": [
        "statistics_response = requests.get(statistics_url, headers=headers)\n",
        "statistics_soup = BeautifulSoup(statistics_response.text, \"html.parser\")"
      ],
      "metadata": {
        "id": "ErNNPL79VqtC"
      },
      "execution_count": 55,
      "outputs": []
    },
    {
      "cell_type": "code",
      "source": [
        "import pandas as pd\n",
        "\n",
        "valuation_table_th = statistics_soup.select(\"section.yf-kbx2lo table tr th\")\n",
        "valuation_table_td = statistics_soup.select(\"section.yf-kbx2lo table tr td\")\n",
        "\n",
        "v_table = []\n",
        "\n",
        "v_table.append({\"Session\": [th.text for th in valuation_table_th[1:]]})\n",
        "\n",
        "current_key = \"\"\n",
        "for idx, td in enumerate(valuation_table_td):\n",
        "    if idx == 0 or idx % 7 == 0:\n",
        "        v_table.append({td.text: []})\n",
        "        current_key = td.text\n",
        "    else:\n",
        "        v_table[-1][current_key].append(td.text)\n",
        "\n",
        "\n",
        "valuation_string = \"\"\n",
        "for val in v_table:\n",
        "    print(list(val.keys())[0], \"|\", \", \".join(val[list(val.keys())[0]]))\n",
        "    valuation_string += (\n",
        "        f\"{list(val.keys())[0]} | {', '.join(val[list(val.keys())[0]])}\\n\"\n",
        "    )"
      ],
      "metadata": {
        "colab": {
          "base_uri": "https://localhost:8080/"
        },
        "id": "TM9oJjkaVr0n",
        "outputId": "756ac78e-e306-4aa4-abd0-fe80b5765e85"
      },
      "execution_count": 56,
      "outputs": [
        {
          "output_type": "stream",
          "name": "stdout",
          "text": [
            "Session | Current, 9/30/2024, 6/30/2024, 3/31/2024, 12/31/2023, 9/30/2023, 9/30/2023 - 12/12/1980\n",
            "Market Cap | 3.62T , 3.52T , 3.23T , 2.65T , 2.99T , 2.68T \n",
            "Enterprise Value | 3.66T , 3.56T , 3.27T , 2.68T , 3.06T , 2.72T \n",
            "Trailing P/E | 39.41 , 35.46 , 32.76 , 26.67 , 31.41 , 28.73 \n",
            "Forward P/E | 32.15 , 30.67 , 28.65 , 26.32 , 29.15 , 25.77 \n",
            "PEG Ratio (5yr expected) | 2.48 , 2.24 , 2.23 , 2.11 , 2.31 , 2.18 \n",
            "Price/Sales | 9.44 , 9.38 , 8.62 , 6.99 , 7.94 , 7.10 \n",
            "Price/Book | 63.59 , 52.80 , 43.21 , 35.49 , 47.90 , 44.17 \n",
            "Enterprise Value/Revenue | 9.37 , 9.24 , 8.56 , 6.96 , 7.98 , 7.09 \n",
            "Enterprise Value/EBITDA | 27.20 , 26.35 , 24.57 , 20.10 , 23.66 , 21.46 \n",
            "Upgrade to begin using 40 years of earnings data and get so much more.  Build financial models with decades of earnings stats, ratios, and valuation data — all exportable — to power your trade ideas. Upgrade   | \n"
          ]
        }
      ]
    },
    {
      "cell_type": "code",
      "source": [
        "trading = statistics_soup.select(\"section.yf-14j5zka table tr td\")\n",
        "\n",
        "trading_string = \"\"\n",
        "trading_info = {}\n",
        "for idx, t in enumerate(trading):\n",
        "    if idx % 2 == 0:\n",
        "        k = t.text.strip().replace('  ', ' ')\n",
        "        if k[-1] in '0123456789':\n",
        "            k = k[:-1].strip()\n",
        "        trading_info[k] = trading[idx + 1].text.strip()\n",
        "        trading_string += f\"{k} | {trading[idx + 1].text.strip()}\\n\"\n",
        "        print(k, \"|\", trading[idx + 1].text.strip())"
      ],
      "metadata": {
        "colab": {
          "base_uri": "https://localhost:8080/"
        },
        "id": "X1uTKTiyVs_w",
        "outputId": "a82a8194-0bbb-411d-aa63-d1c2386f132d"
      },
      "execution_count": 57,
      "outputs": [
        {
          "output_type": "stream",
          "name": "stdout",
          "text": [
            "Fiscal Year Ends | 9/28/2024\n",
            "Most Recent Quarter (mrq) | 9/28/2024\n",
            "Profit Margin | 23.97%\n",
            "Operating Margin (ttm) | 31.17%\n",
            "Return on Assets (ttm) | 21.46%\n",
            "Return on Equity (ttm) | 157.41%\n",
            "Revenue (ttm) | 391.03B\n",
            "Revenue Per Share (ttm) | 25.49\n",
            "Quarterly Revenue Growth (yoy) | 6.10%\n",
            "Gross Profit (ttm) | --\n",
            "EBITDA | 134.66B\n",
            "Net Income Avi to Common (ttm) | 93.74B\n",
            "Diluted EPS (ttm) | 6.09\n",
            "Quarterly Earnings Growth (yoy) | -35.80%\n",
            "Total Cash (mrq) | 65.17B\n",
            "Total Cash Per Share (mrq) | 4.31\n",
            "Total Debt (mrq) | 119.06B\n",
            "Total Debt/Equity (mrq) | 209.06%\n",
            "Current Ratio (mrq) | 0.87\n",
            "Book Value Per Share (mrq) | 3.77\n",
            "Operating Cash Flow (ttm) | 118.25B\n",
            "Levered Free Cash Flow (ttm) | 110.85B\n",
            "Beta (5Y Monthly) | 1.24\n",
            "52 Week Range | 23.87%\n",
            "S&P 500 52-Week Change | 32.40%\n",
            "52 Week High | 240.79\n",
            "52 Week Low | 164.08\n",
            "50-Day Moving Average | 229.11\n",
            "200-Day Moving Average | 206.11\n",
            "Avg Vol (3 month) | 48.36M\n",
            "Avg Vol (10 day) | 43.69M\n",
            "Shares Outstanding | 15.12B\n",
            "Implied Shares Outstanding | 15.33B\n",
            "Float | 15.09B\n",
            "% Held by Insiders | 2.06%\n",
            "% Held by Institutions | 61.90%\n",
            "Shares Short (11/15/2024) | 141.04M\n",
            "Short Ratio (11/15/2024) | 3.21\n",
            "Short % of Float (11/15/2024) | 0.93%\n",
            "Short % of Shares Outstanding (11/15/2024) | 0.93%\n",
            "Shares Short (prior month 10/15/2024) | 140.92M\n",
            "Forward Annual Dividend Rate | 1\n",
            "Forward Annual Dividend Yield | 0.42%\n",
            "Trailing Annual Dividend Rate | 0.98\n",
            "Trailing Annual Dividend Yield | 0.41%\n",
            "5 Year Average Dividend Yield | 0.62\n",
            "Payout Ratio | 16.12%\n",
            "Dividend Date | 11/14/2024\n",
            "Ex-Dividend Date | 11/8/2024\n",
            "Last Split Factor | 4:1\n",
            "Last Split Date | 8/31/2020\n"
          ]
        }
      ]
    },
    {
      "cell_type": "code",
      "source": [
        "from google.colab import userdata\n",
        "\n",
        "import google.generativeai as genai\n",
        "\n",
        "genai.configure(api_key=userdata.get('GEMINI_API_KEY'))"
      ],
      "metadata": {
        "id": "JNRn_XaiVuN6"
      },
      "execution_count": 58,
      "outputs": []
    },
    {
      "cell_type": "code",
      "source": [
        "import typing_extensions as typing\n",
        "\n",
        "\n",
        "class Analyse(typing.TypedDict):\n",
        "    analyse: list[str]\n",
        "    suggestion: list[str]\n",
        "    buy: bool\n",
        "\n",
        "\n",
        "generation_config = {\n",
        "    \"temperature\": 0,\n",
        "    \"top_p\": 0.95,\n",
        "    \"top_k\": 40,\n",
        "    \"max_output_tokens\": 8192,\n",
        "    \"response_schema\": Analyse,\n",
        "    \"response_mime_type\": \"application/json\",\n",
        "}\n",
        "\n",
        "model = genai.GenerativeModel(\n",
        "    model_name=\"gemini-1.5-flash\",\n",
        "    generation_config=generation_config,\n",
        "    system_instruction=\"你是專業的股市分析師，曾經利用過去的新聞與統計資料進行分析。分析時，必須提出完整資訊，包括正面與負面，並使用繁體中文回答。\",\n",
        ")\n",
        "\n",
        "chat_session = model.start_chat(\n",
        "    history=[\n",
        "        {\n",
        "            \"role\": \"user\",\n",
        "            \"parts\": [\n",
        "                \"以下是最新的股市新聞：\",\n",
        "                str(news_data),\n",
        "                \"\\n\\n\",\n",
        "                \"以下是最新的股市統計資料：\",\n",
        "                valuation_string,\n",
        "                \"\\n\\n\",\n",
        "                \"以下是最新的股市交易資料：\",\n",
        "                trading_string,\n",
        "                \"\\n\\n\",\n",
        "            ],\n",
        "        }\n",
        "    ]\n",
        ")"
      ],
      "metadata": {
        "id": "R-0EpPS0V_ir"
      },
      "execution_count": 59,
      "outputs": []
    },
    {
      "cell_type": "code",
      "source": [
        "import json\n",
        "from IPython.display import display, Markdown\n",
        "\n",
        "response = chat_session.send_message(\"請分析並提出建議\")\n",
        "response_json = json.loads(response.text)"
      ],
      "metadata": {
        "id": "8YFQ1rJxWBBh"
      },
      "execution_count": 60,
      "outputs": []
    },
    {
      "cell_type": "code",
      "source": [
        "for ana in response_json['analyse']:\n",
        "    display(Markdown(ana))\n",
        "print(\"\\n====================\\n\")\n",
        "\n",
        "for sug in response_json['suggestion']:\n",
        "    display(Markdown(sug))\n",
        "print(\"\\n====================\\n\")\n",
        "\n",
        "print(f\"建議買進：{response_json['buy']}\")\n"
      ],
      "metadata": {
        "colab": {
          "base_uri": "https://localhost:8080/",
          "height": 505
        },
        "id": "QTBXK77_WCMu",
        "outputId": "91dc4e2d-fdf1-41fd-c223-2f647c52678e"
      },
      "execution_count": 61,
      "outputs": [
        {
          "output_type": "display_data",
          "data": {
            "text/plain": [
              "<IPython.core.display.Markdown object>"
            ],
            "text/markdown": "根據提供的新聞和數據，蘋果公司(AAPL)的股價表現強勁，並受到多位知名投資者看好，預期2025年表現良好。然而，也存在一些潛在的風險，例如來自中國市場的競爭加劇、員工提出的隱私和言論相關訴訟，以及印尼市場因當地內容規定而暫停銷售iPhone 16等。\n\n**正面因素：**\n* 多位知名投資者(例如Ken Fisher, Louis Navellier)將AAPL列入其2025年投資組合，顯示市場對其長期增長潛力充滿信心。\n* 新的iOS 18系統加入AI相關功能，例如Image Playground，提升產品競爭力。\n* 儘管中國市場存在挑戰，但蘋果在其他市場的表現依然強勁，iPhone 16的需求依然存在。\n* 財務數據顯示，蘋果公司擁有強勁的盈利能力和現金流，以及相對穩定的股價表現。\n* Apple Pay與Coinbase合作，拓展支付領域。\n\n**負面因素：**\n* 蘋果公司面臨員工提出的訴訟，指控其監控員工個人隱私和限制言論自由，這可能會對公司聲譽造成負面影響，並產生法律費用。\n* 印尼市場因當地內容規定而暫停銷售iPhone 16，顯示蘋果公司在遵守不同國家/地區的法規方面面臨挑戰。\n* 中國市場競爭加劇，可能影響蘋果公司的銷售額和市場份額。\n* 儘管季度營收增長，但季度盈利增長卻大幅下降，值得關注。\n* 高負債比率(Total Debt/Equity (mrq) | 209.06%)值得關注。\n\n**綜合分析：**\n蘋果公司目前處於一個相對樂觀的狀態，但潛在的風險不容忽視。其強勁的財務狀況和長期增長潛力使其成為一個有吸引力的投資標的，但投資者也需要密切關注其在中國市場的表現、員工訴訟的進展以及其他潛在的風險。"
          },
          "metadata": {}
        },
        {
          "output_type": "stream",
          "name": "stdout",
          "text": [
            "\n",
            "====================\n",
            "\n"
          ]
        },
        {
          "output_type": "display_data",
          "data": {
            "text/plain": [
              "<IPython.core.display.Markdown object>"
            ],
            "text/markdown": "建議投資者在投資AAPL前，應仔細評估其正面和負面因素，並根據自身的風險承受能力做出投資決策。可以考慮分批建倉，降低投資風險。同時，密切關注公司新聞和財務數據，以便及時調整投資策略。"
          },
          "metadata": {}
        },
        {
          "output_type": "stream",
          "name": "stdout",
          "text": [
            "\n",
            "====================\n",
            "\n",
            "建議買進：True\n"
          ]
        }
      ]
    },
    {
      "cell_type": "code",
      "source": [],
      "metadata": {
        "id": "glZN5Nf_WlVB"
      },
      "execution_count": 61,
      "outputs": []
    }
  ]
}